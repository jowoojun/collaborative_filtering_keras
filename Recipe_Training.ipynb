{
 "cells": [
  {
   "cell_type": "markdown",
   "metadata": {},
   "source": [
    "## Import packages"
   ]
  },
  {
   "cell_type": "code",
   "execution_count": 1,
   "metadata": {},
   "outputs": [
    {
     "name": "stderr",
     "output_type": "stream",
     "text": [
      "Using TensorFlow backend.\n"
     ]
    }
   ],
   "source": [
    "%matplotlib inline\n",
    "import math\n",
    "import pandas as pd\n",
    "import matplotlib.pyplot as plt\n",
    "from keras.callbacks import Callback, EarlyStopping, ModelCheckpoint\n",
    "from CFModel import CFModel\n",
    "from CFModel import DeepModel"
   ]
  },
  {
   "cell_type": "markdown",
   "metadata": {},
   "source": [
    "## Define constants"
   ]
  },
  {
   "cell_type": "code",
   "execution_count": 2,
   "metadata": {
    "collapsed": true
   },
   "outputs": [],
   "source": [
    "RATINGS_CSV_FILE = './input/rating_result.csv'\n",
    "MODEL_WEIGHTS_FILE = 'recipe_weights.h5'\n",
    "K_FACTORS = 120\n",
    "RNG_SEED = 144653"
   ]
  },
  {
   "cell_type": "markdown",
   "metadata": {},
   "source": [
    "## Load Recipe data"
   ]
  },
  {
   "cell_type": "code",
   "execution_count": 3,
   "metadata": {},
   "outputs": [
    {
     "name": "stdout",
     "output_type": "stream",
     "text": [
      "1048575 ratings loaded.\n"
     ]
    }
   ],
   "source": [
    "ratings = pd.read_csv(RATINGS_CSV_FILE, \n",
    "                      sep=',', \n",
    "                      encoding='utf-8', \n",
    "                      usecols=['id','userid', 'recipeid', 'rating'])\n",
    "max_userid = ratings['userid'].max() + 1\n",
    "max_recipeid = ratings['recipeid'].max() + 1\n",
    "print(len(ratings), 'ratings loaded.')"
   ]
  },
  {
   "cell_type": "markdown",
   "metadata": {},
   "source": [
    "## Create training set"
   ]
  },
  {
   "cell_type": "code",
   "execution_count": 4,
   "metadata": {},
   "outputs": [
    {
     "name": "stdout",
     "output_type": "stream",
     "text": [
      "Users: [ 3579 10010  4542 ..., 11751  6257  8880] , shape = (1048575,)\n",
      "Recipes: [1952 1112 1449 ..., 2014  661 1691] , shape = (1048575,)\n",
      "Ratings: [5 5 5 ..., 5 5 5] , shape = (1048575,)\n"
     ]
    }
   ],
   "source": [
    "shuffled_ratings = ratings.sample(frac=1., random_state=RNG_SEED)\n",
    "Users = shuffled_ratings['userid'].values\n",
    "print('Users:', Users, ', shape =', Users.shape)\n",
    "Recipe = shuffled_ratings['recipeid'].values\n",
    "print('Recipes:', Recipe, ', shape =', Recipe.shape)\n",
    "Ratings = shuffled_ratings['rating'].values\n",
    "print('Ratings:', Ratings, ', shape =', Ratings.shape)"
   ]
  },
  {
   "cell_type": "markdown",
   "metadata": {},
   "source": [
    "## Define model"
   ]
  },
  {
   "cell_type": "code",
   "execution_count": 5,
   "metadata": {},
   "outputs": [],
   "source": [
    "model = DeepModel(max_userid, max_recipeid, K_FACTORS)\n",
    "model.compile(loss='mse', optimizer='adamax')"
   ]
  },
  {
   "cell_type": "markdown",
   "metadata": {},
   "source": [
    "## Train model"
   ]
  },
  {
   "cell_type": "code",
   "execution_count": 6,
   "metadata": {
    "scrolled": false
   },
   "outputs": [
    {
     "name": "stdout",
     "output_type": "stream",
     "text": [
      "Train on 943717 samples, validate on 104858 samples\n",
      "Epoch 1/30\n",
      "943717/943717 [==============================] - 1816s - loss: 0.0695 - val_loss: 2.1259e-04\n",
      "Epoch 2/30\n",
      "943717/943717 [==============================] - 1841s - loss: 6.4041e-04 - val_loss: 3.3472e-07\n",
      "Epoch 3/30\n",
      "943717/943717 [==============================] - 1620s - loss: 3.7361e-07 - val_loss: 1.7728e-06\n",
      "Epoch 4/30\n",
      "943717/943717 [==============================] - 1611s - loss: 6.8940e-07 - val_loss: 4.4346e-09\n",
      "Epoch 5/30\n",
      "943717/943717 [==============================] - 1616s - loss: 7.5940e-07 - val_loss: 6.6245e-12\n",
      "Epoch 6/30\n",
      "943717/943717 [==============================] - 1597s - loss: 5.9566e-07 - val_loss: 3.5719e-07\n",
      "Epoch 7/30\n",
      "943717/943717 [==============================] - 1661s - loss: 3.0598e-08 - val_loss: 2.9601e-09\n",
      "Epoch 8/30\n",
      "943717/943717 [==============================] - 1660s - loss: 2.2511e-10 - val_loss: 1.6764e-10\n"
     ]
    }
   ],
   "source": [
    "callbacks = [EarlyStopping('val_loss', patience=2),\n",
    "             ModelCheckpoint(MODEL_WEIGHTS_FILE, save_best_only=True)]\n",
    "history = model.fit([Users, Recipe], Ratings, nb_epoch=30, validation_split=.1, verbose=1, callbacks=callbacks)"
   ]
  },
  {
   "cell_type": "markdown",
   "metadata": {},
   "source": [
    "## Plot training and validation RMSE"
   ]
  },
  {
   "cell_type": "code",
   "execution_count": 10,
   "metadata": {},
   "outputs": [
    {
     "name": "stderr",
     "output_type": "stream",
     "text": [
      "/home/soonmok/anaconda3/lib/python3.6/site-packages/ipykernel_launcher.py:5: DeprecationWarning: \n",
      ".ix is deprecated. Please use\n",
      ".loc for label based indexing or\n",
      ".iloc for positional indexing\n",
      "\n",
      "See the documentation here:\n",
      "http://pandas.pydata.org/pandas-docs/stable/indexing.html#ix-indexer-is-deprecated\n",
      "  \"\"\"\n"
     ]
    },
    {
     "data": {
      "image/png": "[encoded data removed]",
      "text/plain": [
       "<matplotlib.figure.Figure at 0x7f7a0668c048>"
      ]
     },
     "metadata": {},
     "output_type": "display_data"
    }
   ],
   "source": [
    "loss = pd.DataFrame({'epoch': [ i + 1 for i in history.epoch ],\n",
    "                     'training': [ math.sqrt(loss) for loss in history.history['loss'] ],\n",
    "                     'validation': [ math.sqrt(loss) for loss in history.history['val_loss'] ]})\n",
    "#ax = loss.ix[:,:].plot(x='epoch', figsize={1,30}, grid=True)\n",
    "ax = loss.ix[:,:].plot(x='epoch', grid=True)\n",
    "ax.set_ylabel(\"root mean squared error\")\n",
    "ax.set_ylim([-0.3,0.3]);"
   ]
  },
  {
   "cell_type": "code",
   "execution_count": null,
   "metadata": {
    "collapsed": true
   },
   "outputs": [],
   "source": []
  }
 ],
 "metadata": {
  "kernelspec": {
   "display_name": "Python 2",
   "language": "python",
   "name": "python2"
  },
  "language_info": {
   "codemirror_mode": {
    "name": "ipython",
    "version": 3
   },
   "file_extension": ".py",
   "mimetype": "text/x-python",
   "name": "python",
   "nbconvert_exporter": "python",
   "pygments_lexer": "ipython3",
   "version": "3.6.3"
  }
 },
 "nbformat": 4,
 "nbformat_minor": 1
}
