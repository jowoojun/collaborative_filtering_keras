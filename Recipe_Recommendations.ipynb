{
 "cells": [
  {
   "cell_type": "markdown",
   "metadata": {},
   "source": [
    "## Import packages"
   ]
  },
  {
   "cell_type": "code",
   "execution_count": 1,
   "metadata": {},
   "outputs": [
    {
     "name": "stderr",
     "output_type": "stream",
     "text": [
      "Using TensorFlow backend.\n"
     ]
    }
   ],
   "source": [
    "import pandas as pd\n",
    "from CFModel import CFModel\n",
    "from CFModel import DeepModel"
   ]
  },
  {
   "cell_type": "markdown",
   "metadata": {},
   "source": [
    "## Define constants\n"
   ]
  },
  {
   "cell_type": "code",
   "execution_count": 2,
   "metadata": {
    "collapsed": true
   },
   "outputs": [],
   "source": [
    "RATINGS_CSV_FILE = './input/rating_result.csv'\n",
    "USERS_CSV_FILE = './input/user_result.csv'\n",
    "RECIPE_CSV_FILE = './input/recipe_result.csv'\n",
    "MODEL_WEIGHTS_FILE = 'recipe_weights.h5'\n",
    "K_FACTORS = 120\n",
    "TEST_USER = 1000"
   ]
  },
  {
   "cell_type": "markdown",
   "metadata": {},
   "source": [
    "## Load Recipe data"
   ]
  },
  {
   "cell_type": "code",
   "execution_count": 3,
   "metadata": {},
   "outputs": [
    {
     "name": "stdout",
     "output_type": "stream",
     "text": [
      "1048575 ratings loaded.\n"
     ]
    }
   ],
   "source": [
    "ratings = pd.read_csv(RATINGS_CSV_FILE, sep=',', encoding='utf-8', usecols=['userid', 'recipeid', 'rating'])\n",
    "max_userid = ratings['userid'].drop_duplicates().max() + 1\n",
    "max_recipeid = ratings['recipeid'].drop_duplicates().max() + 1\n",
    "print(len(ratings), 'ratings loaded.')"
   ]
  },
  {
   "cell_type": "code",
   "execution_count": 4,
   "metadata": {},
   "outputs": [
    {
     "name": "stdout",
     "output_type": "stream",
     "text": [
      "75061 descriptions of 12936 users loaded.\n"
     ]
    }
   ],
   "source": [
    "users = pd.read_csv(USERS_CSV_FILE, sep=',', encoding='utf-8', usecols=['userid', 'nickname'])\n",
    "print(len(users), 'descriptions of', max_userid, 'users loaded.')"
   ]
  },
  {
   "cell_type": "code",
   "execution_count": 6,
   "metadata": {},
   "outputs": [
    {
     "name": "stdout",
     "output_type": "stream",
     "text": [
      "5101 descriptions of 5023 recipes loaded.\n"
     ]
    }
   ],
   "source": [
    "recipes = pd.read_csv(RECIPE_CSV_FILE, sep=',', encoding='utf-8', usecols=['recipeid', 'title', 'categories'])\n",
    "print(len(recipes), 'descriptions of', max_recipeid, 'recipes loaded.')"
   ]
  },
  {
   "cell_type": "markdown",
   "metadata": {},
   "source": [
    "## Make recommendations for a given user"
   ]
  },
  {
   "cell_type": "code",
   "execution_count": 7,
   "metadata": {},
   "outputs": [],
   "source": [
    "trained_model = DeepModel(max_userid, max_recipeid, K_FACTORS)"
   ]
  },
  {
   "cell_type": "code",
   "execution_count": 8,
   "metadata": {},
   "outputs": [],
   "source": [
    "trained_model.load_weights(MODEL_WEIGHTS_FILE)"
   ]
  },
  {
   "cell_type": "code",
   "execution_count": 9,
   "metadata": {},
   "outputs": [
    {
     "data": {
      "text/html": [
       "<div>\n",
       "<style>\n",
       "    .dataframe thead tr:only-child th {\n",
       "        text-align: right;\n",
       "    }\n",
       "\n",
       "    .dataframe thead th {\n",
       "        text-align: left;\n",
       "    }\n",
       "\n",
       "    .dataframe tbody tr th {\n",
       "        vertical-align: top;\n",
       "    }\n",
       "</style>\n",
       "<table border=\"1\" class=\"dataframe\">\n",
       "  <thead>\n",
       "    <tr style=\"text-align: right;\">\n",
       "      <th></th>\n",
       "      <th>userid</th>\n",
       "      <th>nickname</th>\n",
       "    </tr>\n",
       "  </thead>\n",
       "  <tbody>\n",
       "    <tr>\n",
       "      <th>1000</th>\n",
       "      <td>1000</td>\n",
       "      <td>나리</td>\n",
       "    </tr>\n",
       "  </tbody>\n",
       "</table>\n",
       "</div>"
      ],
      "text/plain": [
       "      userid nickname\n",
       "1000    1000       나리"
      ]
     },
     "execution_count": 9,
     "metadata": {},
     "output_type": "execute_result"
    }
   ],
   "source": [
    "users[users['userid'] == TEST_USER]"
   ]
  },
  {
   "cell_type": "code",
   "execution_count": 10,
   "metadata": {
    "collapsed": true
   },
   "outputs": [],
   "source": [
    "def predict_rating(userid, recipeid):\n",
    "    return trained_model.rate(userid, recipeid)"
   ]
  },
  {
   "cell_type": "code",
   "execution_count": 11,
   "metadata": {
    "collapsed": true
   },
   "outputs": [],
   "source": [
    "user_ratings = ratings[ratings['userid'] == TEST_USER][['userid', 'recipeid', 'rating']]"
   ]
  },
  {
   "cell_type": "code",
   "execution_count": 12,
   "metadata": {},
   "outputs": [
    {
     "data": {
      "text/html": [
       "<div>\n",
       "<style>\n",
       "    .dataframe thead tr:only-child th {\n",
       "        text-align: right;\n",
       "    }\n",
       "\n",
       "    .dataframe thead th {\n",
       "        text-align: left;\n",
       "    }\n",
       "\n",
       "    .dataframe tbody tr th {\n",
       "        vertical-align: top;\n",
       "    }\n",
       "</style>\n",
       "<table border=\"1\" class=\"dataframe\">\n",
       "  <thead>\n",
       "    <tr style=\"text-align: right;\">\n",
       "      <th></th>\n",
       "      <th>userid</th>\n",
       "      <th>recipeid</th>\n",
       "      <th>rating</th>\n",
       "      <th>prediction</th>\n",
       "      <th>title</th>\n",
       "      <th>categories</th>\n",
       "    </tr>\n",
       "  </thead>\n",
       "  <tbody>\n",
       "    <tr>\n",
       "      <th>0</th>\n",
       "      <td>1000</td>\n",
       "      <td>2949</td>\n",
       "      <td>5</td>\n",
       "      <td>4.999999</td>\n",
       "      <td>초딩입맛이라면 누구나 다 좋아하는 맛살계란김밥! 맛살계란김밥</td>\n",
       "      <td>['김밥/롤/주먹밥/초밥', '실생활 요리', '한식 요리', '달걀/유제품 요리'...</td>\n",
       "    </tr>\n",
       "    <tr>\n",
       "      <th>1</th>\n",
       "      <td>1000</td>\n",
       "      <td>876</td>\n",
       "      <td>5</td>\n",
       "      <td>4.999998</td>\n",
       "      <td>집밥이 그리워 : 소고기 장조림과 깍두기를 넣은 장조림 버터밥 소고기장조림</td>\n",
       "      <td>['쇠고기', '조림요리', '실생활 요리', '한식 요리', '움짤 레시피']</td>\n",
       "    </tr>\n",
       "    <tr>\n",
       "      <th>2</th>\n",
       "      <td>1000</td>\n",
       "      <td>1104</td>\n",
       "      <td>5</td>\n",
       "      <td>4.999999</td>\n",
       "      <td>5분도 길다. 오늘은 1분 달달이! 설레오</td>\n",
       "      <td>['여름', '아이스크림', '간식/야식', '퓨전요리', '5분 요리', '아이 ...</td>\n",
       "    </tr>\n",
       "    <tr>\n",
       "      <th>3</th>\n",
       "      <td>1000</td>\n",
       "      <td>1080</td>\n",
       "      <td>5</td>\n",
       "      <td>4.999998</td>\n",
       "      <td>치즈덕후들을 일깨워 줄 오지치즈후라이</td>\n",
       "      <td>['튀김요리', '요거트', '술안주', '양식 요리', '채소류 요리', '움짤 ...</td>\n",
       "    </tr>\n",
       "    <tr>\n",
       "      <th>4</th>\n",
       "      <td>1000</td>\n",
       "      <td>1060</td>\n",
       "      <td>5</td>\n",
       "      <td>4.999999</td>\n",
       "      <td>화끈한 게 매력적이야 쏘핫쏘야 소시지야채볶음</td>\n",
       "      <td>['햄/소시지', '볶음요리', '술안주', '퓨전요리', '움짤 레시피']</td>\n",
       "    </tr>\n",
       "    <tr>\n",
       "      <th>5</th>\n",
       "      <td>1000</td>\n",
       "      <td>1034</td>\n",
       "      <td>5</td>\n",
       "      <td>5.000000</td>\n",
       "      <td>고소함과 짭짤함이 한입에 쏙~ 와인과 어울리는 참치카나페 참치카나페</td>\n",
       "      <td>['수산가공품', '파티/명절요리', '양식 요리', '10분 요리']</td>\n",
       "    </tr>\n",
       "    <tr>\n",
       "      <th>6</th>\n",
       "      <td>1000</td>\n",
       "      <td>1029</td>\n",
       "      <td>5</td>\n",
       "      <td>4.999997</td>\n",
       "      <td>치즈성애자 심쿵하는, 치즈쭉쭉 고구마치즈피자 고구마피자</td>\n",
       "      <td>['피자', '간식/야식', '파티/명절요리', '퓨전요리', '달걀/유제품 요리'...</td>\n",
       "    </tr>\n",
       "    <tr>\n",
       "      <th>7</th>\n",
       "      <td>1000</td>\n",
       "      <td>1010</td>\n",
       "      <td>5</td>\n",
       "      <td>4.999997</td>\n",
       "      <td>속재료 빵빵하게 채워 만든 치킨스낵랩 치킨스낵랩</td>\n",
       "      <td>['닭고기', '햄버거/핫도그', '간식/야식', '멕시칸 요리', '간단 재료 요리']</td>\n",
       "    </tr>\n",
       "    <tr>\n",
       "      <th>8</th>\n",
       "      <td>1000</td>\n",
       "      <td>991</td>\n",
       "      <td>5</td>\n",
       "      <td>4.999998</td>\n",
       "      <td>밀당과 사랑의 중심에서 와인을 외치다.  '베이컨 꼬치' 베이컨 꼬치</td>\n",
       "      <td>['햄/소시지', '구이요리', '술안주', '퓨전요리', '채소류 요리', '15...</td>\n",
       "    </tr>\n",
       "    <tr>\n",
       "      <th>9</th>\n",
       "      <td>1000</td>\n",
       "      <td>984</td>\n",
       "      <td>5</td>\n",
       "      <td>4.999998</td>\n",
       "      <td>맛있는 찹스테이크 만들기 찹스테이크</td>\n",
       "      <td>['쇠고기', '볶음요리', '술안주', '양식 요리']</td>\n",
       "    </tr>\n",
       "  </tbody>\n",
       "</table>\n",
       "</div>"
      ],
      "text/plain": [
       "   userid  recipeid  rating  prediction  \\\n",
       "0    1000      2949       5    4.999999   \n",
       "1    1000       876       5    4.999998   \n",
       "2    1000      1104       5    4.999999   \n",
       "3    1000      1080       5    4.999998   \n",
       "4    1000      1060       5    4.999999   \n",
       "5    1000      1034       5    5.000000   \n",
       "6    1000      1029       5    4.999997   \n",
       "7    1000      1010       5    4.999997   \n",
       "8    1000       991       5    4.999998   \n",
       "9    1000       984       5    4.999998   \n",
       "\n",
       "                                       title  \\\n",
       "0          초딩입맛이라면 누구나 다 좋아하는 맛살계란김밥! 맛살계란김밥   \n",
       "1  집밥이 그리워 : 소고기 장조림과 깍두기를 넣은 장조림 버터밥 소고기장조림   \n",
       "2                    5분도 길다. 오늘은 1분 달달이! 설레오   \n",
       "3                       치즈덕후들을 일깨워 줄 오지치즈후라이   \n",
       "4                   화끈한 게 매력적이야 쏘핫쏘야 소시지야채볶음   \n",
       "5      고소함과 짭짤함이 한입에 쏙~ 와인과 어울리는 참치카나페 참치카나페   \n",
       "6             치즈성애자 심쿵하는, 치즈쭉쭉 고구마치즈피자 고구마피자   \n",
       "7                 속재료 빵빵하게 채워 만든 치킨스낵랩 치킨스낵랩   \n",
       "8     밀당과 사랑의 중심에서 와인을 외치다.  '베이컨 꼬치' 베이컨 꼬치   \n",
       "9                        맛있는 찹스테이크 만들기 찹스테이크   \n",
       "\n",
       "                                          categories  \n",
       "0  ['김밥/롤/주먹밥/초밥', '실생활 요리', '한식 요리', '달걀/유제품 요리'...  \n",
       "1       ['쇠고기', '조림요리', '실생활 요리', '한식 요리', '움짤 레시피']  \n",
       "2  ['여름', '아이스크림', '간식/야식', '퓨전요리', '5분 요리', '아이 ...  \n",
       "3  ['튀김요리', '요거트', '술안주', '양식 요리', '채소류 요리', '움짤 ...  \n",
       "4         ['햄/소시지', '볶음요리', '술안주', '퓨전요리', '움짤 레시피']  \n",
       "5            ['수산가공품', '파티/명절요리', '양식 요리', '10분 요리']  \n",
       "6  ['피자', '간식/야식', '파티/명절요리', '퓨전요리', '달걀/유제품 요리'...  \n",
       "7  ['닭고기', '햄버거/핫도그', '간식/야식', '멕시칸 요리', '간단 재료 요리']  \n",
       "8  ['햄/소시지', '구이요리', '술안주', '퓨전요리', '채소류 요리', '15...  \n",
       "9                    ['쇠고기', '볶음요리', '술안주', '양식 요리']  "
      ]
     },
     "execution_count": 12,
     "metadata": {},
     "output_type": "execute_result"
    }
   ],
   "source": [
    "user_ratings['prediction'] = user_ratings.apply(lambda x: predict_rating(TEST_USER, x['recipeid']), axis=1)\n",
    "user_ratings.sort_values(by='rating', \n",
    "                         ascending=False).merge(recipes, \n",
    "                                                on='recipeid', \n",
    "                                                how='inner',\n",
    "                                                suffixes=['_u', '_m']\n",
    "                                               ).head(10)"
   ]
  },
  {
   "cell_type": "code",
   "execution_count": 14,
   "metadata": {},
   "outputs": [
    {
     "data": {
      "text/html": [
       "<div>\n",
       "<style>\n",
       "    .dataframe thead tr:only-child th {\n",
       "        text-align: right;\n",
       "    }\n",
       "\n",
       "    .dataframe thead th {\n",
       "        text-align: left;\n",
       "    }\n",
       "\n",
       "    .dataframe tbody tr th {\n",
       "        vertical-align: top;\n",
       "    }\n",
       "</style>\n",
       "<table border=\"1\" class=\"dataframe\">\n",
       "  <thead>\n",
       "    <tr style=\"text-align: right;\">\n",
       "      <th></th>\n",
       "      <th>recipeid</th>\n",
       "      <th>prediction</th>\n",
       "      <th>title</th>\n",
       "      <th>categories</th>\n",
       "    </tr>\n",
       "  </thead>\n",
       "  <tbody>\n",
       "    <tr>\n",
       "      <th>0</th>\n",
       "      <td>801</td>\n",
       "      <td>5.000009</td>\n",
       "      <td>엄마가 만들어주는 스팸김밥&amp;amp;참치롤 스팸 &amp;amp; 참치 김밥</td>\n",
       "      <td>['햄/소시지', '김밥/롤/주먹밥/초밥', '나들이 요리', '한식 요리', '1...</td>\n",
       "    </tr>\n",
       "    <tr>\n",
       "      <th>1</th>\n",
       "      <td>1314</td>\n",
       "      <td>5.000008</td>\n",
       "      <td>달달함에 내가 솔로인 것도 잊는다! 국물떡볶이 떡볶이</td>\n",
       "      <td>['볶음요리', '간식/야식', '한식 요리', '가공식품 요리', '자취 초보 요리']</td>\n",
       "    </tr>\n",
       "    <tr>\n",
       "      <th>2</th>\n",
       "      <td>1620</td>\n",
       "      <td>5.000006</td>\n",
       "      <td>컵에 넣고 전자레인지에 땡! 치즈컵만두 치즈컵만두</td>\n",
       "      <td>['만두요리', '간식/야식', '실생활 요리', '가공식품 요리', '5분 요리'...</td>\n",
       "    </tr>\n",
       "    <tr>\n",
       "      <th>3</th>\n",
       "      <td>1078</td>\n",
       "      <td>5.000006</td>\n",
       "      <td>작다고 무시하지 마라! 작지만 강력한 레시피 땡초 김밥</td>\n",
       "      <td>['김밥/롤/주먹밥/초밥', '실생활 요리', '한식 요리', '15분 요리']</td>\n",
       "    </tr>\n",
       "    <tr>\n",
       "      <th>4</th>\n",
       "      <td>833</td>\n",
       "      <td>5.000006</td>\n",
       "      <td>바쁜 아침, 그렇다고 거를 순 없지! 5분 밥버거 밥버거</td>\n",
       "      <td>['햄버거/핫도그', '나들이 요리', '퓨전요리', '가공식품 요리', '5분 요...</td>\n",
       "    </tr>\n",
       "    <tr>\n",
       "      <th>5</th>\n",
       "      <td>1063</td>\n",
       "      <td>5.000005</td>\n",
       "      <td>머그컵으로 요리하기 베이컨에그</td>\n",
       "      <td>['찜요리', '간식/야식', '양식 요리', '달걀/유제품 요리', '5분 요리'...</td>\n",
       "    </tr>\n",
       "    <tr>\n",
       "      <th>6</th>\n",
       "      <td>1024</td>\n",
       "      <td>5.000005</td>\n",
       "      <td>사랑받는 남친이 되기 위한 스팸계란도시락 스팸계란도시락</td>\n",
       "      <td>['햄/소시지', '김밥/롤/주먹밥/초밥', '나들이 요리', '한식 요리', '혼...</td>\n",
       "    </tr>\n",
       "    <tr>\n",
       "      <th>7</th>\n",
       "      <td>747</td>\n",
       "      <td>5.000005</td>\n",
       "      <td>자꾸 손이 가는 식빵치즈스틱 식빵치즈스틱</td>\n",
       "      <td>['구이요리', '튀김요리', '빵/케이크', '간식/야식', '술안주', '양식 ...</td>\n",
       "    </tr>\n",
       "    <tr>\n",
       "      <th>8</th>\n",
       "      <td>1015</td>\n",
       "      <td>5.000004</td>\n",
       "      <td>국물이 없어도 맛있는 파송송 볶음라면! 볶음라면</td>\n",
       "      <td>['한식면', '간식/야식', '한식 요리', '15분 요리', '볶음면요리']</td>\n",
       "    </tr>\n",
       "    <tr>\n",
       "      <th>9</th>\n",
       "      <td>694</td>\n",
       "      <td>5.000004</td>\n",
       "      <td>나홀로 브런치 : 초간단 버섯 &amp;amp; 베이컨 크림 리조또 버섯 &amp;amp; 베이컨...</td>\n",
       "      <td>['양식 요리', '달걀/유제품 요리', '자취 초보 요리', '혼밥 요리', '움...</td>\n",
       "    </tr>\n",
       "  </tbody>\n",
       "</table>\n",
       "</div>"
      ],
      "text/plain": [
       "   recipeid  prediction                                              title  \\\n",
       "0       801    5.000009              엄마가 만들어주는 스팸김밥&amp;참치롤 스팸 &amp; 참치 김밥   \n",
       "1      1314    5.000008                      달달함에 내가 솔로인 것도 잊는다! 국물떡볶이 떡볶이   \n",
       "2      1620    5.000006                        컵에 넣고 전자레인지에 땡! 치즈컵만두 치즈컵만두   \n",
       "3      1078    5.000006                     작다고 무시하지 마라! 작지만 강력한 레시피 땡초 김밥   \n",
       "4       833    5.000006                    바쁜 아침, 그렇다고 거를 순 없지! 5분 밥버거 밥버거   \n",
       "5      1063    5.000005                                   머그컵으로 요리하기 베이컨에그   \n",
       "6      1024    5.000005                     사랑받는 남친이 되기 위한 스팸계란도시락 스팸계란도시락   \n",
       "7       747    5.000005                             자꾸 손이 가는 식빵치즈스틱 식빵치즈스틱   \n",
       "8      1015    5.000004                         국물이 없어도 맛있는 파송송 볶음라면! 볶음라면   \n",
       "9       694    5.000004  나홀로 브런치 : 초간단 버섯 &amp; 베이컨 크림 리조또 버섯 &amp; 베이컨...   \n",
       "\n",
       "                                          categories  \n",
       "0  ['햄/소시지', '김밥/롤/주먹밥/초밥', '나들이 요리', '한식 요리', '1...  \n",
       "1  ['볶음요리', '간식/야식', '한식 요리', '가공식품 요리', '자취 초보 요리']  \n",
       "2  ['만두요리', '간식/야식', '실생활 요리', '가공식품 요리', '5분 요리'...  \n",
       "3       ['김밥/롤/주먹밥/초밥', '실생활 요리', '한식 요리', '15분 요리']  \n",
       "4  ['햄버거/핫도그', '나들이 요리', '퓨전요리', '가공식품 요리', '5분 요...  \n",
       "5  ['찜요리', '간식/야식', '양식 요리', '달걀/유제품 요리', '5분 요리'...  \n",
       "6  ['햄/소시지', '김밥/롤/주먹밥/초밥', '나들이 요리', '한식 요리', '혼...  \n",
       "7  ['구이요리', '튀김요리', '빵/케이크', '간식/야식', '술안주', '양식 ...  \n",
       "8       ['한식면', '간식/야식', '한식 요리', '15분 요리', '볶음면요리']  \n",
       "9  ['양식 요리', '달걀/유제품 요리', '자취 초보 요리', '혼밥 요리', '움...  "
      ]
     },
     "execution_count": 14,
     "metadata": {},
     "output_type": "execute_result"
    }
   ],
   "source": [
    "recommendations = ratings[ratings['recipeid'].isin(user_ratings['recipeid']) == False][['recipeid']].drop_duplicates()\n",
    "recommendations['prediction'] = recommendations.apply(lambda x: predict_rating(TEST_USER, x['recipeid']), axis=1)\n",
    "recommendations.sort_values(by='prediction',\n",
    "                          ascending=False).merge(recipes,\n",
    "                                                 on='recipeid',\n",
    "                                                 how='inner',\n",
    "                                                 suffixes=['_u', '_m']).head(10)"
   ]
  },
  {
   "cell_type": "code",
   "execution_count": null,
   "metadata": {
    "collapsed": true
   },
   "outputs": [],
   "source": []
  }
 ],
 "metadata": {
  "kernelspec": {
   "display_name": "Python 2",
   "language": "python",
   "name": "python2"
  },
  "language_info": {
   "codemirror_mode": {
    "name": "ipython",
    "version": 3
   },
   "file_extension": ".py",
   "mimetype": "text/x-python",
   "name": "python",
   "nbconvert_exporter": "python",
   "pygments_lexer": "ipython3",
   "version": "3.6.3"
  }
 },
 "nbformat": 4,
 "nbformat_minor": 1
}
