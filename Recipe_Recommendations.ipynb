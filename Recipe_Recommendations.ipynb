{
 "cells": [
  {
   "cell_type": "markdown",
   "metadata": {},
   "source": [
    "## Import packages"
   ]
  },
  {
   "cell_type": "code",
   "execution_count": 1,
   "metadata": {},
   "outputs": [
    {
     "name": "stderr",
     "output_type": "stream",
     "text": [
      "/home/dislab/anaconda2/lib/python2.7/site-packages/h5py/__init__.py:36: FutureWarning: Conversion of the second argument of issubdtype from `float` to `np.floating` is deprecated. In future, it will be treated as `np.float64 == np.dtype(float).type`.\n",
      "  from ._conv import register_converters as _register_converters\n",
      "Using TensorFlow backend.\n"
     ]
    }
   ],
   "source": [
    "import pandas as pd\n",
    "from CFModel import CFModel\n",
    "from CFModel import DeepModel"
   ]
  },
  {
   "cell_type": "markdown",
   "metadata": {},
   "source": [
    "## Define constants\n"
   ]
  },
  {
   "cell_type": "code",
   "execution_count": 18,
   "metadata": {},
   "outputs": [],
   "source": [
    "RATINGS_CSV_FILE = './input/rating_result.csv'\n",
    "USERS_CSV_FILE = './input/user_result.csv'\n",
    "RECIPE_CSV_FILE = './input/recipe_result.csv'\n",
    "MODEL_WEIGHTS_FILE = 'recipe_weights.h5'\n",
    "K_FACTORS = 120\n",
    "TEST_USER = 200"
   ]
  },
  {
   "cell_type": "markdown",
   "metadata": {},
   "source": [
    "## Load Recipe data"
   ]
  },
  {
   "cell_type": "code",
   "execution_count": 19,
   "metadata": {},
   "outputs": [
    {
     "name": "stdout",
     "output_type": "stream",
     "text": [
      "(1048575, 'ratings loaded.')\n"
     ]
    }
   ],
   "source": [
    "ratings = pd.read_csv(RATINGS_CSV_FILE, sep=',', encoding='utf-8', usecols=['userid', 'recipeid', 'rating'])\n",
    "max_userid = ratings['userid'].drop_duplicates().max() + 1\n",
    "max_recipeid = ratings['recipeid'].drop_duplicates().max() + 1\n",
    "print(len(ratings), 'ratings loaded.')"
   ]
  },
  {
   "cell_type": "code",
   "execution_count": 20,
   "metadata": {},
   "outputs": [
    {
     "name": "stdout",
     "output_type": "stream",
     "text": [
      "(75061, 'descriptions of', 12936, 'users loaded.')\n"
     ]
    }
   ],
   "source": [
    "users = pd.read_csv(USERS_CSV_FILE, sep=',', encoding='utf-8', usecols=['userid', 'nickname'])\n",
    "print(len(users), 'descriptions of', max_userid, 'users loaded.')"
   ]
  },
  {
   "cell_type": "code",
   "execution_count": 21,
   "metadata": {},
   "outputs": [
    {
     "name": "stdout",
     "output_type": "stream",
     "text": [
      "(5101, 'descriptions of', 5023, 'recipes loaded.')\n"
     ]
    }
   ],
   "source": [
    "recipes = pd.read_csv(RECIPE_CSV_FILE, sep=',', encoding='utf-8', usecols=['recipeid', 'title', 'categories'])\n",
    "print(len(recipes), 'descriptions of', max_recipeid, 'recipes loaded.')"
   ]
  },
  {
   "cell_type": "markdown",
   "metadata": {},
   "source": [
    "## Make recommendations for a given user"
   ]
  },
  {
   "cell_type": "code",
   "execution_count": 22,
   "metadata": {},
   "outputs": [],
   "source": [
    "trained_model = DeepModel(max_userid, max_recipeid, K_FACTORS)"
   ]
  },
  {
   "cell_type": "code",
   "execution_count": 23,
   "metadata": {},
   "outputs": [],
   "source": [
    "trained_model.load_weights(MODEL_WEIGHTS_FILE)"
   ]
  },
  {
   "cell_type": "code",
   "execution_count": 24,
   "metadata": {},
   "outputs": [
    {
     "data": {
      "text/html": [
       "<div>\n",
       "<style scoped>\n",
       "    .dataframe tbody tr th:only-of-type {\n",
       "        vertical-align: middle;\n",
       "    }\n",
       "\n",
       "    .dataframe tbody tr th {\n",
       "        vertical-align: top;\n",
       "    }\n",
       "\n",
       "    .dataframe thead th {\n",
       "        text-align: right;\n",
       "    }\n",
       "</style>\n",
       "<table border=\"1\" class=\"dataframe\">\n",
       "  <thead>\n",
       "    <tr style=\"text-align: right;\">\n",
       "      <th></th>\n",
       "      <th>userid</th>\n",
       "      <th>nickname</th>\n",
       "    </tr>\n",
       "  </thead>\n",
       "  <tbody>\n",
       "    <tr>\n",
       "      <th>200</th>\n",
       "      <td>200</td>\n",
       "      <td>dislab200</td>\n",
       "    </tr>\n",
       "  </tbody>\n",
       "</table>\n",
       "</div>"
      ],
      "text/plain": [
       "     userid   nickname\n",
       "200     200  dislab200"
      ]
     },
     "execution_count": 24,
     "metadata": {},
     "output_type": "execute_result"
    }
   ],
   "source": [
    "users[users['userid'] == TEST_USER]"
   ]
  },
  {
   "cell_type": "code",
   "execution_count": 25,
   "metadata": {},
   "outputs": [],
   "source": [
    "def predict_rating(userid, recipeid):\n",
    "    return trained_model.rate(userid, recipeid)"
   ]
  },
  {
   "cell_type": "code",
   "execution_count": 26,
   "metadata": {},
   "outputs": [],
   "source": [
    "user_ratings = ratings[ratings['userid'] == TEST_USER][['userid', 'recipeid', 'rating']]"
   ]
  },
  {
   "cell_type": "code",
   "execution_count": 27,
   "metadata": {},
   "outputs": [
    {
     "data": {
      "text/html": [
       "<div>\n",
       "<style scoped>\n",
       "    .dataframe tbody tr th:only-of-type {\n",
       "        vertical-align: middle;\n",
       "    }\n",
       "\n",
       "    .dataframe tbody tr th {\n",
       "        vertical-align: top;\n",
       "    }\n",
       "\n",
       "    .dataframe thead th {\n",
       "        text-align: right;\n",
       "    }\n",
       "</style>\n",
       "<table border=\"1\" class=\"dataframe\">\n",
       "  <thead>\n",
       "    <tr style=\"text-align: right;\">\n",
       "      <th></th>\n",
       "      <th>userid</th>\n",
       "      <th>recipeid</th>\n",
       "      <th>rating</th>\n",
       "      <th>prediction</th>\n",
       "      <th>title</th>\n",
       "      <th>categories</th>\n",
       "    </tr>\n",
       "  </thead>\n",
       "  <tbody>\n",
       "    <tr>\n",
       "      <th>0</th>\n",
       "      <td>200</td>\n",
       "      <td>1632</td>\n",
       "      <td>5</td>\n",
       "      <td>5.000000</td>\n",
       "      <td>불닭볶음면이 우유에 빠진날 불닭까르보나라</td>\n",
       "      <td>[간식/야식, 실생활 요리, 양식 요리, 가공식품 요리, 10분 요리, 자취 초보 ...</td>\n",
       "    </tr>\n",
       "    <tr>\n",
       "      <th>1</th>\n",
       "      <td>200</td>\n",
       "      <td>779</td>\n",
       "      <td>5</td>\n",
       "      <td>5.000000</td>\n",
       "      <td>카모메식당의 그 오니기리 주먹밥 오니기리</td>\n",
       "      <td>[김밥/롤/주먹밥/초밥, 실생활 요리, 일식 요리, 가공식품 요리, 자취 초보 요리...</td>\n",
       "    </tr>\n",
       "    <tr>\n",
       "      <th>2</th>\n",
       "      <td>200</td>\n",
       "      <td>696</td>\n",
       "      <td>5</td>\n",
       "      <td>4.999998</td>\n",
       "      <td>알리오 올리오 알리오 올리오</td>\n",
       "      <td>[서양식면, 손님 접대 요리, 양식 요리, 혼밥 요리, 볶음면요리]</td>\n",
       "    </tr>\n",
       "    <tr>\n",
       "      <th>3</th>\n",
       "      <td>200</td>\n",
       "      <td>704</td>\n",
       "      <td>5</td>\n",
       "      <td>4.999999</td>\n",
       "      <td>여행 도시락으로 최고, 누텔라 프렌치토스트 롤 누텔라 프렌치토스트 롤</td>\n",
       "      <td>[김밥/롤/주먹밥/초밥, 빵/케이크, 간식/야식, 나들이 요리, 가공식품 요리, 움...</td>\n",
       "    </tr>\n",
       "    <tr>\n",
       "      <th>4</th>\n",
       "      <td>200</td>\n",
       "      <td>713</td>\n",
       "      <td>5</td>\n",
       "      <td>4.999998</td>\n",
       "      <td>오늘도 맹모닝 굿모닝 : 토마토 &amp;amp</td>\n",
       "      <td>베이컨 잉글리시 머핀 잉글리시 머핀</td>\n",
       "    </tr>\n",
       "    <tr>\n",
       "      <th>5</th>\n",
       "      <td>200</td>\n",
       "      <td>720</td>\n",
       "      <td>5</td>\n",
       "      <td>5.000000</td>\n",
       "      <td>놀이공원에서 인기짱, 츄러스 초코토핑 츄러스</td>\n",
       "      <td>[빵/케이크, 과자/쿠키, 사탕/초콜렛, 간식/야식, 나들이 요리, 자취 초보 요리...</td>\n",
       "    </tr>\n",
       "    <tr>\n",
       "      <th>6</th>\n",
       "      <td>200</td>\n",
       "      <td>770</td>\n",
       "      <td>5</td>\n",
       "      <td>4.999998</td>\n",
       "      <td>5가지 재료로 만드는 꾸덕한 크림 스파게티 크림 파스타</td>\n",
       "      <td>[서양식면, 간식/야식, 파티/명절요리, 양식 요리, 자취 초보 요리, 간단 재료 ...</td>\n",
       "    </tr>\n",
       "    <tr>\n",
       "      <th>7</th>\n",
       "      <td>200</td>\n",
       "      <td>774</td>\n",
       "      <td>5</td>\n",
       "      <td>4.999999</td>\n",
       "      <td>숙취해소의 직방, 달콤한 망고빙수 망고빙수</td>\n",
       "      <td>[아이스크림, 간식/야식, 과일 요리, 10분 요리, 자취 초보 요리, 움짤 레시피]</td>\n",
       "    </tr>\n",
       "    <tr>\n",
       "      <th>8</th>\n",
       "      <td>200</td>\n",
       "      <td>785</td>\n",
       "      <td>5</td>\n",
       "      <td>4.999999</td>\n",
       "      <td>집에서 즐기는 뉴욕, 매그놀리아 바나나 푸딩 바나나 푸딩</td>\n",
       "      <td>[과자/쿠키, 간식/야식, 양식 요리, 달걀/유제품 요리, 자취 초보 요리, 아이 간식]</td>\n",
       "    </tr>\n",
       "    <tr>\n",
       "      <th>9</th>\n",
       "      <td>200</td>\n",
       "      <td>1224</td>\n",
       "      <td>5</td>\n",
       "      <td>5.000000</td>\n",
       "      <td>쫠~깃한 한 점, 실패없다!! 비프 크림 수제비</td>\n",
       "      <td>[쇠고기, 실생활 요리, 퓨전요리, 움짤 레시피, 아이 간식, 볶음면요리]</td>\n",
       "    </tr>\n",
       "  </tbody>\n",
       "</table>\n",
       "</div>"
      ],
      "text/plain": [
       "   userid  recipeid  rating  prediction  \\\n",
       "0     200      1632       5    5.000000   \n",
       "1     200       779       5    5.000000   \n",
       "2     200       696       5    4.999998   \n",
       "3     200       704       5    4.999999   \n",
       "4     200       713       5    4.999998   \n",
       "5     200       720       5    5.000000   \n",
       "6     200       770       5    4.999998   \n",
       "7     200       774       5    4.999999   \n",
       "8     200       785       5    4.999999   \n",
       "9     200      1224       5    5.000000   \n",
       "\n",
       "                                    title  \\\n",
       "0                  불닭볶음면이 우유에 빠진날 불닭까르보나라   \n",
       "1                  카모메식당의 그 오니기리 주먹밥 오니기리   \n",
       "2                         알리오 올리오 알리오 올리오   \n",
       "3  여행 도시락으로 최고, 누텔라 프렌치토스트 롤 누텔라 프렌치토스트 롤   \n",
       "4                  오늘도 맹모닝 굿모닝 : 토마토 &amp   \n",
       "5                놀이공원에서 인기짱, 츄러스 초코토핑 츄러스   \n",
       "6          5가지 재료로 만드는 꾸덕한 크림 스파게티 크림 파스타   \n",
       "7                 숙취해소의 직방, 달콤한 망고빙수 망고빙수   \n",
       "8         집에서 즐기는 뉴욕, 매그놀리아 바나나 푸딩 바나나 푸딩   \n",
       "9              쫠~깃한 한 점, 실패없다!! 비프 크림 수제비   \n",
       "\n",
       "                                          categories  \n",
       "0  [간식/야식, 실생활 요리, 양식 요리, 가공식품 요리, 10분 요리, 자취 초보 ...  \n",
       "1  [김밥/롤/주먹밥/초밥, 실생활 요리, 일식 요리, 가공식품 요리, 자취 초보 요리...  \n",
       "2              [서양식면, 손님 접대 요리, 양식 요리, 혼밥 요리, 볶음면요리]  \n",
       "3  [김밥/롤/주먹밥/초밥, 빵/케이크, 간식/야식, 나들이 요리, 가공식품 요리, 움...  \n",
       "4                                베이컨 잉글리시 머핀 잉글리시 머핀  \n",
       "5  [빵/케이크, 과자/쿠키, 사탕/초콜렛, 간식/야식, 나들이 요리, 자취 초보 요리...  \n",
       "6  [서양식면, 간식/야식, 파티/명절요리, 양식 요리, 자취 초보 요리, 간단 재료 ...  \n",
       "7    [아이스크림, 간식/야식, 과일 요리, 10분 요리, 자취 초보 요리, 움짤 레시피]  \n",
       "8  [과자/쿠키, 간식/야식, 양식 요리, 달걀/유제품 요리, 자취 초보 요리, 아이 간식]  \n",
       "9          [쇠고기, 실생활 요리, 퓨전요리, 움짤 레시피, 아이 간식, 볶음면요리]  "
      ]
     },
     "execution_count": 27,
     "metadata": {},
     "output_type": "execute_result"
    }
   ],
   "source": [
    "user_ratings['prediction'] = user_ratings.apply(lambda x: predict_rating(TEST_USER, x['recipeid']), axis=1)\n",
    "user_ratings.sort_values(by='rating', \n",
    "                         ascending=False).merge(recipes, \n",
    "                                                on='recipeid', \n",
    "                                                how='inner',\n",
    "                                                suffixes=['_u', '_m']\n",
    "                                               ).head(10)"
   ]
  },
  {
   "cell_type": "code",
   "execution_count": 28,
   "metadata": {},
   "outputs": [
    {
     "data": {
      "text/html": [
       "<div>\n",
       "<style scoped>\n",
       "    .dataframe tbody tr th:only-of-type {\n",
       "        vertical-align: middle;\n",
       "    }\n",
       "\n",
       "    .dataframe tbody tr th {\n",
       "        vertical-align: top;\n",
       "    }\n",
       "\n",
       "    .dataframe thead th {\n",
       "        text-align: right;\n",
       "    }\n",
       "</style>\n",
       "<table border=\"1\" class=\"dataframe\">\n",
       "  <thead>\n",
       "    <tr style=\"text-align: right;\">\n",
       "      <th></th>\n",
       "      <th>recipeid</th>\n",
       "      <th>prediction</th>\n",
       "      <th>title</th>\n",
       "      <th>categories</th>\n",
       "    </tr>\n",
       "  </thead>\n",
       "  <tbody>\n",
       "    <tr>\n",
       "      <th>0</th>\n",
       "      <td>4159</td>\n",
       "      <td>5.000116</td>\n",
       "      <td>할머니표 시골 비빔국수 시골 비빔국수</td>\n",
       "      <td>[실생활 요리, 한식 요리, 채소류 요리, 달걀/유제품 요리, 가공식품 요리, 5분...</td>\n",
       "    </tr>\n",
       "    <tr>\n",
       "      <th>1</th>\n",
       "      <td>2001</td>\n",
       "      <td>5.000056</td>\n",
       "      <td>도시락 반찬은 물론, 아이들간식으로 딱! 계란초밥 계란초밥</td>\n",
       "      <td>[김밥/롤/주먹밥/초밥, 간식/야식, 나들이 요리, 실생활 요리, 일식 요리, 자취...</td>\n",
       "    </tr>\n",
       "    <tr>\n",
       "      <th>2</th>\n",
       "      <td>2060</td>\n",
       "      <td>5.000050</td>\n",
       "      <td>매콤달콤 입맛돋는 만두 강정 만두 강정</td>\n",
       "      <td>[만두요리, 튀김요리, 간식/야식, 술안주, 실생활 요리, 한식 요리, 자취 초보 ...</td>\n",
       "    </tr>\n",
       "    <tr>\n",
       "      <th>3</th>\n",
       "      <td>2847</td>\n",
       "      <td>5.000045</td>\n",
       "      <td>국물불닭 불닭</td>\n",
       "      <td>[닭고기, 국/탕요리, 술안주, 한식 요리]</td>\n",
       "    </tr>\n",
       "    <tr>\n",
       "      <th>4</th>\n",
       "      <td>4730</td>\n",
       "      <td>5.000045</td>\n",
       "      <td>밥 꾹꾹 말아먹어요! 짬뽕밥 짬뽕밥</td>\n",
       "      <td>[수산물, 국/탕요리, 찌개요리, 술안주, 해장요리, 실생활 요리, 한식 요리, 중...</td>\n",
       "    </tr>\n",
       "    <tr>\n",
       "      <th>5</th>\n",
       "      <td>3471</td>\n",
       "      <td>5.000037</td>\n",
       "      <td>리조토가 이렇게 쉬운 요리였나요~! 찹쌀리조토 찹쌀리조토</td>\n",
       "      <td>[쌀밥/잡곡밥, 볶음밥/오므라이스, 손님 접대 요리, 파티/명절요리, 실생활 요리,...</td>\n",
       "    </tr>\n",
       "    <tr>\n",
       "      <th>6</th>\n",
       "      <td>1102</td>\n",
       "      <td>5.000035</td>\n",
       "      <td>다이어트 요리에서 화려한 메인으로! 해물단호박찜</td>\n",
       "      <td>[찜요리, 파티/명절요리, 한식 요리, 채소류 요리, 자취 초보 요리, 간편 메인반...</td>\n",
       "    </tr>\n",
       "    <tr>\n",
       "      <th>7</th>\n",
       "      <td>801</td>\n",
       "      <td>5.000009</td>\n",
       "      <td>엄마가 만들어주는 스팸김밥&amp;amp</td>\n",
       "      <td>참치롤 스팸 &amp;amp</td>\n",
       "    </tr>\n",
       "    <tr>\n",
       "      <th>8</th>\n",
       "      <td>701</td>\n",
       "      <td>5.000008</td>\n",
       "      <td>어깨춤이 절로나오는 간단 도시락  치즈베이컨말이</td>\n",
       "      <td>[햄/소시지, 구이요리, 요거트, 간식/야식, 나들이 요리, 달걀/유제품 요리, 1...</td>\n",
       "    </tr>\n",
       "    <tr>\n",
       "      <th>9</th>\n",
       "      <td>1314</td>\n",
       "      <td>5.000008</td>\n",
       "      <td>달달함에 내가 솔로인 것도 잊는다! 국물떡볶이 떡볶이</td>\n",
       "      <td>[볶음요리, 간식/야식, 한식 요리, 가공식품 요리, 자취 초보 요리]</td>\n",
       "    </tr>\n",
       "  </tbody>\n",
       "</table>\n",
       "</div>"
      ],
      "text/plain": [
       "   recipeid  prediction                             title  \\\n",
       "0      4159    5.000116              할머니표 시골 비빔국수 시골 비빔국수   \n",
       "1      2001    5.000056  도시락 반찬은 물론, 아이들간식으로 딱! 계란초밥 계란초밥   \n",
       "2      2060    5.000050             매콤달콤 입맛돋는 만두 강정 만두 강정   \n",
       "3      2847    5.000045                           국물불닭 불닭   \n",
       "4      4730    5.000045               밥 꾹꾹 말아먹어요! 짬뽕밥 짬뽕밥   \n",
       "5      3471    5.000037   리조토가 이렇게 쉬운 요리였나요~! 찹쌀리조토 찹쌀리조토   \n",
       "6      1102    5.000035        다이어트 요리에서 화려한 메인으로! 해물단호박찜   \n",
       "7       801    5.000009                엄마가 만들어주는 스팸김밥&amp   \n",
       "8       701    5.000008        어깨춤이 절로나오는 간단 도시락  치즈베이컨말이   \n",
       "9      1314    5.000008     달달함에 내가 솔로인 것도 잊는다! 국물떡볶이 떡볶이   \n",
       "\n",
       "                                          categories  \n",
       "0  [실생활 요리, 한식 요리, 채소류 요리, 달걀/유제품 요리, 가공식품 요리, 5분...  \n",
       "1  [김밥/롤/주먹밥/초밥, 간식/야식, 나들이 요리, 실생활 요리, 일식 요리, 자취...  \n",
       "2  [만두요리, 튀김요리, 간식/야식, 술안주, 실생활 요리, 한식 요리, 자취 초보 ...  \n",
       "3                           [닭고기, 국/탕요리, 술안주, 한식 요리]  \n",
       "4  [수산물, 국/탕요리, 찌개요리, 술안주, 해장요리, 실생활 요리, 한식 요리, 중...  \n",
       "5  [쌀밥/잡곡밥, 볶음밥/오므라이스, 손님 접대 요리, 파티/명절요리, 실생활 요리,...  \n",
       "6  [찜요리, 파티/명절요리, 한식 요리, 채소류 요리, 자취 초보 요리, 간편 메인반...  \n",
       "7                                        참치롤 스팸 &amp  \n",
       "8  [햄/소시지, 구이요리, 요거트, 간식/야식, 나들이 요리, 달걀/유제품 요리, 1...  \n",
       "9            [볶음요리, 간식/야식, 한식 요리, 가공식품 요리, 자취 초보 요리]  "
      ]
     },
     "execution_count": 28,
     "metadata": {},
     "output_type": "execute_result"
    }
   ],
   "source": [
    "recommendations = ratings[ratings['recipeid'].isin(user_ratings['recipeid']) == False][['recipeid']].drop_duplicates()\n",
    "recommendations['prediction'] = recommendations.apply(lambda x: predict_rating(TEST_USER, x['recipeid']), axis=1)\n",
    "recommendations.sort_values(by='prediction',\n",
    "                          ascending=False).merge(recipes,\n",
    "                                                 on='recipeid',\n",
    "                                                 how='inner',\n",
    "                                                 suffixes=['_u', '_m']).head(10)"
   ]
  },
  {
   "cell_type": "code",
   "execution_count": null,
   "metadata": {
    "collapsed": true
   },
   "outputs": [],
   "source": []
  }
 ],
 "metadata": {
  "kernelspec": {
   "display_name": "Python 2",
   "language": "python",
   "name": "python2"
  },
  "language_info": {
   "codemirror_mode": {
    "name": "ipython",
    "version": 2
   },
   "file_extension": ".py",
   "mimetype": "text/x-python",
   "name": "python",
   "nbconvert_exporter": "python",
   "pygments_lexer": "ipython2",
   "version": "2.7.14"
  }
 },
 "nbformat": 4,
 "nbformat_minor": 1
}
