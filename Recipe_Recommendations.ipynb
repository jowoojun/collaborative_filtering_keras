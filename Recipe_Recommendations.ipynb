{
 "cells": [
  {
   "cell_type": "markdown",
   "metadata": {},
   "source": [
    "## Import packages"
   ]
  },
  {
   "cell_type": "code",
   "execution_count": 29,
   "metadata": {},
   "outputs": [],
   "source": [
    "import pandas as pd\n",
    "import numpy as np\n",
    "from CFModel import CFModel\n"
   ]
  },
  {
   "cell_type": "markdown",
   "metadata": {},
   "source": [
    "## Define constants\n"
   ]
  },
  {
   "cell_type": "code",
   "execution_count": 30,
   "metadata": {},
   "outputs": [],
   "source": [
    "RATINGS_CSV_FILE = './input/rating_result.csv'\n",
    "TEST_CSV_FILE = './test_result.csv'\n",
    "USERS_CSV_FILE = './input/user_result.csv'\n",
    "RECIPE_CSV_FILE = './input/recipe_result.csv'\n",
    "MODEL_WEIGHTS_FILE = 'recipe_weights.h5'\n",
    "K_FACTORS = 120\n",
    "TEST_USER = 200"
   ]
  },
  {
   "cell_type": "markdown",
   "metadata": {},
   "source": [
    "## Load Recipe data"
   ]
  },
  {
   "cell_type": "code",
   "execution_count": 31,
   "metadata": {},
   "outputs": [
    {
     "name": "stdout",
     "output_type": "stream",
     "text": [
      "(1048575, 'ratings loaded.')\n",
      "12936\n",
      "5023\n"
     ]
    }
   ],
   "source": [
    "ratings = pd.read_csv(RATINGS_CSV_FILE, sep=',', encoding='utf-8', usecols=['userid', 'recipeid', 'rating'])\n",
    "max_userid = ratings['userid'].drop_duplicates().max() + 1\n",
    "max_recipeid = ratings['recipeid'].drop_duplicates().max() + 1\n",
    "print(len(ratings), 'ratings loaded.')\n",
    "print(max_userid)\n",
    "print(max_recipeid)"
   ]
  },
  {
   "cell_type": "code",
   "execution_count": 32,
   "metadata": {},
   "outputs": [
    {
     "name": "stdout",
     "output_type": "stream",
     "text": [
      "(8276, 'ratings loaded.')\n"
     ]
    }
   ],
   "source": [
    "test_ratings = pd.read_csv(TEST_CSV_FILE, sep=',', encoding='utf-8', usecols=['userid', 'recipeid', 'rating'])\n",
    "print(len(test_ratings), 'ratings loaded.')"
   ]
  },
  {
   "cell_type": "code",
   "execution_count": 33,
   "metadata": {},
   "outputs": [
    {
     "name": "stdout",
     "output_type": "stream",
     "text": [
      "(75061, 'descriptions of', 12936, 'users loaded.')\n"
     ]
    }
   ],
   "source": [
    "\n",
    "users = pd.read_csv(USERS_CSV_FILE, sep=',', encoding='utf-8', usecols=['userid', 'nickname'])\n",
    "print(len(users), 'descriptions of', max_userid, 'users loaded.')\n",
    "max_user = len(users)\n"
   ]
  },
  {
   "cell_type": "code",
   "execution_count": 34,
   "metadata": {},
   "outputs": [
    {
     "name": "stdout",
     "output_type": "stream",
     "text": [
      "(5101, 'descriptions of', 5023, 'recipes loaded.')\n"
     ]
    }
   ],
   "source": [
    "\n",
    "recipes = pd.read_csv(RECIPE_CSV_FILE, sep=',', encoding='utf-8', usecols=['recipeid'])#, 'title', 'categories'])\n",
    "print(len(recipes), 'descriptions of', max_recipeid, 'recipes loaded.')\n"
   ]
  },
  {
   "cell_type": "markdown",
   "metadata": {},
   "source": [
    "## Make recommendations for a given user"
   ]
  },
  {
   "cell_type": "code",
   "execution_count": 35,
   "metadata": {},
   "outputs": [],
   "source": [
    "trained_model = CFModel(max_userid, max_recipeid, K_FACTORS)"
   ]
  },
  {
   "cell_type": "code",
   "execution_count": 36,
   "metadata": {},
   "outputs": [],
   "source": [
    "trained_model.load_weights(MODEL_WEIGHTS_FILE)"
   ]
  },
  {
   "cell_type": "code",
   "execution_count": 37,
   "metadata": {},
   "outputs": [
    {
     "data": {
      "text/html": [
       "<div>\n",
       "<style scoped>\n",
       "    .dataframe tbody tr th:only-of-type {\n",
       "        vertical-align: middle;\n",
       "    }\n",
       "\n",
       "    .dataframe tbody tr th {\n",
       "        vertical-align: top;\n",
       "    }\n",
       "\n",
       "    .dataframe thead th {\n",
       "        text-align: right;\n",
       "    }\n",
       "</style>\n",
       "<table border=\"1\" class=\"dataframe\">\n",
       "  <thead>\n",
       "    <tr style=\"text-align: right;\">\n",
       "      <th></th>\n",
       "      <th>userid</th>\n",
       "      <th>nickname</th>\n",
       "    </tr>\n",
       "  </thead>\n",
       "  <tbody>\n",
       "    <tr>\n",
       "      <th>200</th>\n",
       "      <td>200</td>\n",
       "      <td>박지수</td>\n",
       "    </tr>\n",
       "  </tbody>\n",
       "</table>\n",
       "</div>"
      ],
      "text/plain": [
       "     userid nickname\n",
       "200     200      박지수"
      ]
     },
     "execution_count": 37,
     "metadata": {},
     "output_type": "execute_result"
    }
   ],
   "source": [
    "users[users['userid'] == TEST_USER]"
   ]
  },
  {
   "cell_type": "code",
   "execution_count": 38,
   "metadata": {},
   "outputs": [],
   "source": [
    "def predict_rating(userid, recipeid):\n",
    "    return trained_model.rate(userid, recipeid)"
   ]
  },
  {
   "cell_type": "code",
   "execution_count": 39,
   "metadata": {
    "scrolled": true
   },
   "outputs": [
    {
     "name": "stdout",
     "output_type": "stream",
     "text": [
      "    userid  recipeid  rating  prediction\n",
      "0      200        85       3    4.906492\n",
      "1      200       453       5    4.872457\n",
      "2      200        35       3    4.858866\n",
      "3      200       983       5    4.803903\n",
      "4      200       875       5    4.794510\n",
      "5      200       997       5    4.786585\n",
      "6      200       587       5    4.782755\n",
      "7      200       993       5    4.746210\n",
      "8      200       859       5    4.739516\n",
      "9      200       693       5    4.739224\n",
      "10     200      1073       3    4.735550\n",
      "11     200       819       4    4.710590\n",
      "12     200       963       3    4.677085\n",
      "13     200       287       5    4.669042\n",
      "14     200       945       4    4.658239\n",
      "15     200      1032       5    4.653538\n",
      "16     200       779       5    4.627000\n",
      "17     200       463       4    4.626307\n",
      "18     200      1007       5    4.609961\n",
      "19     200       831       5    4.607461\n",
      "20     200      1024       5    4.602902\n",
      "21     200      1080       5    4.582709\n",
      "22     200       683       3    4.580012\n",
      "23     200       785       5    4.576002\n",
      "24     200       871       4    4.562866\n",
      "25     200       791       5    4.559278\n",
      "26     200       713       3    4.553298\n",
      "27     200       998       5    4.550144\n",
      "28     200      1632       5    4.549092\n",
      "29     200       849       5    4.504695\n",
      "..     ...       ...     ...         ...\n",
      "38     200       919       3    4.458916\n",
      "39     200       978       1    4.454770\n",
      "40     200       720       3    4.437974\n",
      "41     200       657       3    4.423399\n",
      "42     200       902       5    4.414124\n",
      "43     200       274       5    4.408479\n",
      "44     200       922       5    4.401078\n",
      "45     200      1000       5    4.397866\n",
      "46     200      1018       5    4.386575\n",
      "47     200       666       5    4.376282\n",
      "48     200       652       5    4.373701\n",
      "49     200       696       4    4.370218\n",
      "50     200       252       5    4.362990\n",
      "51     200       992       5    4.330611\n",
      "52     200       674       5    4.330262\n",
      "53     200       770       4    4.295146\n",
      "54     200       948       5    4.263244\n",
      "55     200       840       5    4.263127\n",
      "56     200      1122       5    4.251809\n",
      "57     200       588       5    4.243739\n",
      "58     200       704       5    4.238358\n",
      "59     200      1224       5    4.213782\n",
      "60     200       994       5    4.208432\n",
      "61     200       836       5    4.207463\n",
      "62     200       892       4    4.200200\n",
      "63     200      1014       3    4.128987\n",
      "64     200       688       5    4.097815\n",
      "65     200       952       1    4.093312\n",
      "66     200      1074       1    4.080848\n",
      "67     200       808       1    4.074294\n",
      "\n",
      "[68 rows x 4 columns]\n"
     ]
    }
   ],
   "source": [
    "user_ratings = ratings[ratings['userid'] == TEST_USER][['userid', 'recipeid', 'rating']]\n",
    "user_ratings['prediction'] = user_ratings.apply(lambda x: predict_rating(TEST_USER, x['recipeid']), axis=1)\n",
    "test_rating = user_ratings.sort_values(by='prediction', \n",
    "                         ascending=False).merge(recipes, \n",
    "                                                on='recipeid',\n",
    "                                                how='inner',\n",
    "                                                suffixes=['_u', '_m']\n",
    "                                               )\n",
    "print(test_rating)"
   ]
  },
  {
   "cell_type": "code",
   "execution_count": 40,
   "metadata": {},
   "outputs": [
    {
     "data": {
      "text/html": [
       "<div>\n",
       "<style scoped>\n",
       "    .dataframe tbody tr th:only-of-type {\n",
       "        vertical-align: middle;\n",
       "    }\n",
       "\n",
       "    .dataframe tbody tr th {\n",
       "        vertical-align: top;\n",
       "    }\n",
       "\n",
       "    .dataframe thead th {\n",
       "        text-align: right;\n",
       "    }\n",
       "</style>\n",
       "<table border=\"1\" class=\"dataframe\">\n",
       "  <thead>\n",
       "    <tr style=\"text-align: right;\">\n",
       "      <th></th>\n",
       "      <th>recipeid</th>\n",
       "      <th>prediction</th>\n",
       "    </tr>\n",
       "  </thead>\n",
       "  <tbody>\n",
       "    <tr>\n",
       "      <th>0</th>\n",
       "      <td>583</td>\n",
       "      <td>5.206446</td>\n",
       "    </tr>\n",
       "    <tr>\n",
       "      <th>1</th>\n",
       "      <td>563</td>\n",
       "      <td>5.117180</td>\n",
       "    </tr>\n",
       "    <tr>\n",
       "      <th>2</th>\n",
       "      <td>293</td>\n",
       "      <td>5.112055</td>\n",
       "    </tr>\n",
       "    <tr>\n",
       "      <th>3</th>\n",
       "      <td>217</td>\n",
       "      <td>5.082150</td>\n",
       "    </tr>\n",
       "    <tr>\n",
       "      <th>4</th>\n",
       "      <td>975</td>\n",
       "      <td>5.063018</td>\n",
       "    </tr>\n",
       "    <tr>\n",
       "      <th>5</th>\n",
       "      <td>4085</td>\n",
       "      <td>5.061860</td>\n",
       "    </tr>\n",
       "    <tr>\n",
       "      <th>6</th>\n",
       "      <td>4215</td>\n",
       "      <td>5.061845</td>\n",
       "    </tr>\n",
       "    <tr>\n",
       "      <th>7</th>\n",
       "      <td>195</td>\n",
       "      <td>5.055509</td>\n",
       "    </tr>\n",
       "    <tr>\n",
       "      <th>8</th>\n",
       "      <td>4695</td>\n",
       "      <td>5.052623</td>\n",
       "    </tr>\n",
       "    <tr>\n",
       "      <th>9</th>\n",
       "      <td>4745</td>\n",
       "      <td>5.041393</td>\n",
       "    </tr>\n",
       "  </tbody>\n",
       "</table>\n",
       "</div>"
      ],
      "text/plain": [
       "   recipeid  prediction\n",
       "0       583    5.206446\n",
       "1       563    5.117180\n",
       "2       293    5.112055\n",
       "3       217    5.082150\n",
       "4       975    5.063018\n",
       "5      4085    5.061860\n",
       "6      4215    5.061845\n",
       "7       195    5.055509\n",
       "8      4695    5.052623\n",
       "9      4745    5.041393"
      ]
     },
     "execution_count": 40,
     "metadata": {},
     "output_type": "execute_result"
    }
   ],
   "source": [
    "recommendations = ratings[ratings['recipeid'].isin(user_ratings['recipeid']) == False][['recipeid']].drop_duplicates()\n",
    "recommendations['prediction'] = recommendations.apply(lambda x: predict_rating(TEST_USER, x['recipeid']), axis=1)\n",
    "recommendations.sort_values(by='prediction',\n",
    "                          ascending=False).merge(recipes,\n",
    "                                                 on='recipeid',\n",
    "                                                 how='inner',\n",
    "                                                 suffixes=['_u', '_m']).head(10)"
   ]
  },
  {
   "cell_type": "code",
   "execution_count": 41,
   "metadata": {},
   "outputs": [],
   "source": [
    "import evaluate"
   ]
  },
  {
   "cell_type": "code",
   "execution_count": 42,
   "metadata": {},
   "outputs": [],
   "source": [
    "def dcg(relevances, rank=10):\n",
    "    \"\"\"Discounted cumulative gain at rank (DCG)\"\"\"\n",
    "    relevances = np.asarray(relevances)[:rank]\n",
    "    n_relevances = len(relevances)\n",
    "    if n_relevances == 0:\n",
    "        return 0.\n",
    "\n",
    "    discounts = np.log2(np.arange(n_relevances) + 2)\n",
    "    return np.sum(relevances / discounts)\n",
    "\n",
    "def ndcg(relevances, rank=10):\n",
    "    \"\"\"Normalized discounted cumulative gain (NDGC)\"\"\"\n",
    "    best_dcg = dcg(sorted(relevances, reverse=True), rank)\n",
    "    if best_dcg == 0:\n",
    "        return 0.\n",
    "\n",
    "    return dcg(relevances, rank) / best_dcg"
   ]
  },
  {
   "cell_type": "code",
   "execution_count": 43,
   "metadata": {
    "scrolled": true
   },
   "outputs": [
    {
     "name": "stdout",
     "output_type": "stream",
     "text": [
      "    userid  recipeid  rating  prediction\n",
      "0      200        85       3    4.906492\n",
      "1      200       453       5    4.872457\n",
      "2      200        35       3    4.858866\n",
      "3      200       983       5    4.803903\n",
      "4      200       875       5    4.794510\n",
      "5      200       997       5    4.786585\n",
      "6      200       587       5    4.782755\n",
      "7      200       993       5    4.746210\n",
      "8      200       859       5    4.739516\n",
      "9      200       693       5    4.739224\n",
      "10     200      1073       3    4.735550\n",
      "11     200       819       4    4.710590\n",
      "12     200       963       3    4.677085\n",
      "13     200       287       5    4.669042\n",
      "14     200       945       4    4.658239\n",
      "15     200      1032       5    4.653538\n",
      "16     200       779       5    4.627000\n",
      "17     200       463       4    4.626307\n",
      "18     200      1007       5    4.609961\n",
      "19     200       831       5    4.607461\n",
      "20     200      1024       5    4.602902\n",
      "21     200      1080       5    4.582709\n",
      "22     200       683       3    4.580012\n",
      "23     200       785       5    4.576002\n",
      "24     200       871       4    4.562866\n",
      "25     200       791       5    4.559278\n",
      "26     200       713       3    4.553298\n",
      "27     200       998       5    4.550144\n",
      "28     200      1632       5    4.549092\n",
      "29     200       849       5    4.504695\n",
      "..     ...       ...     ...         ...\n",
      "38     200       919       3    4.458916\n",
      "39     200       978       1    4.454770\n",
      "40     200       720       3    4.437974\n",
      "41     200       657       3    4.423399\n",
      "42     200       902       5    4.414124\n",
      "43     200       274       5    4.408479\n",
      "44     200       922       5    4.401078\n",
      "45     200      1000       5    4.397866\n",
      "46     200      1018       5    4.386575\n",
      "47     200       666       5    4.376282\n",
      "48     200       652       5    4.373701\n",
      "49     200       696       4    4.370218\n",
      "50     200       252       5    4.362990\n",
      "51     200       992       5    4.330611\n",
      "52     200       674       5    4.330262\n",
      "53     200       770       4    4.295146\n",
      "54     200       948       5    4.263244\n",
      "55     200       840       5    4.263127\n",
      "56     200      1122       5    4.251809\n",
      "57     200       588       5    4.243739\n",
      "58     200       704       5    4.238358\n",
      "59     200      1224       5    4.213782\n",
      "60     200       994       5    4.208432\n",
      "61     200       836       5    4.207463\n",
      "62     200       892       4    4.200200\n",
      "63     200      1014       3    4.128987\n",
      "64     200       688       5    4.097815\n",
      "65     200       952       1    4.093312\n",
      "66     200      1074       1    4.080848\n",
      "67     200       808       1    4.074294\n",
      "\n",
      "[68 rows x 4 columns]\n",
      "[5, 5, 5, 5, 5, 5, 5, 5, 5, 5, 5, 5, 5, 5, 5, 5, 5, 5, 5, 5, 5, 5, 5, 5, 5, 5, 5, 5, 5, 5, 5, 4, 4, 4, 4, 4, 4, 4, 4, 4, 4, 4, 4, 4, 4, 4, 4, 4, 4, 4, 4, 4, 4, 4, 4, 4, 4, 4, 4, 4, 4, 4, 4, 4, 4, 4, 4, 4]\n",
      "[3, 5, 3, 5, 5, 5, 5, 5, 5, 5, 3, 4, 3, 5, 4, 5, 5, 4, 5, 5, 5, 5, 3, 5, 4, 5, 3, 5, 5, 5, 3, 3, 3, 4, 5, 5, 4, 5, 3, 1, 3, 3, 5, 5, 5, 5, 5, 5, 5, 4, 5, 5, 5, 4, 5, 5, 5, 5, 5, 5, 5, 5, 4, 3, 5, 1, 1, 1]\n",
      "0.653415958310137\n",
      "1.0\n"
     ]
    }
   ],
   "source": [
    "print(test_rating)\n",
    "tprediction = list(test_rating['prediction'])\n",
    "trating = list(test_rating['rating'])\n",
    "tprediction = map(round, tprediction) \n",
    "tprediction = map(int, tprediction) \n",
    "print(tprediction)\n",
    "print(trating)\n",
    "print(evaluate.ndcg_score(trating,tprediction, 10))\n",
    "print(ndcg(tprediction, 1))"
   ]
  },
  {
   "cell_type": "code",
   "execution_count": 44,
   "metadata": {},
   "outputs": [],
   "source": [
    "import measures\n",
    "import random"
   ]
  },
  {
   "cell_type": "code",
   "execution_count": 45,
   "metadata": {
    "scrolled": true
   },
   "outputs": [
    {
     "name": "stdout",
     "output_type": "stream",
     "text": [
      "[3, 5, 3, 5, 5, 5, 5, 5, 5, 5, 3, 4, 3, 5, 4, 5, 5, 4, 5, 5, 5, 5, 3, 5, 4, 5, 3, 5, 5, 5, 3, 3, 3, 4, 5, 5, 4, 5, 3, 1, 3, 3, 5, 5, 5, 5, 5, 5, 5, 4, 5, 5, 5, 4, 5, 5, 5, 5, 5, 5, 5, 5, 4, 3, 5, 1, 1, 1]\n",
      "[5, 5, 5, 5, 5, 5, 5, 5, 5, 5, 5, 5, 5, 5, 5, 5, 5, 5, 5, 5, 5, 5, 5, 5, 5, 5, 5, 5, 5, 5, 5, 4, 4, 4, 4, 4, 4, 4, 4, 4, 4, 4, 4, 4, 4, 4, 4, 4, 4, 4, 4, 4, 4, 4, 4, 4, 4, 4, 4, 4, 4, 4, 4, 4, 4, 4, 4, 4]\n",
      "\t DCG:\t\t\t105.509186074\n",
      "\t NDCG:\t\t\t1.08258182649\n",
      "\t Precision:\t\t0.367647058824\n",
      "\t Precision at k:\t0.367647058824\n",
      "\t Average precision:\t0.54124026562\n",
      "\t RankDCG:\t\t0.0648648648649\n"
     ]
    }
   ],
   "source": [
    "def test_measures(reference, hypothesis):\n",
    "    \"\"\"\n",
    "    Runs all rank-ordering evaluation measures on given pair of lists.\n",
    "    \"\"\"\n",
    "\n",
    "    print(\"\\t DCG:\\t\\t\\t{0}\".format(measures.find_dcg(hypothesis)))\n",
    "    print(\"\\t NDCG:\\t\\t\\t{0}\".format(measures.find_ndcg(reference, hypothesis)))\n",
    "    print(\"\\t Precision:\\t\\t{0}\".format(measures.find_precision(reference, hypothesis)))\n",
    "    print(\"\\t Precision at k:\\t{0}\".format(measures.find_precision_k(reference, hypothesis, len(reference))))\n",
    "    print(\"\\t Average precision:\\t{0}\".format(measures.find_average_precision(reference, hypothesis)))\n",
    "    print(\"\\t RankDCG:\\t\\t{0}\".format(measures.find_rankdcg(reference, hypothesis), \"\\n\"))\n",
    "print(trating)\n",
    "print(tprediction)\n",
    "\n",
    "tprediction = map(round, tprediction)\n",
    "tprediction = map(int, tprediction)\n",
    "test_measures(trating, tprediction)"
   ]
  },
  {
   "cell_type": "code",
   "execution_count": 46,
   "metadata": {
    "scrolled": true
   },
   "outputs": [
    {
     "name": "stdout",
     "output_type": "stream",
     "text": [
      "i :0, id:470, len: 113\n",
      "i :1, id:159, len: 220\n",
      "i :2, id:351, len: 106\n",
      "i :3, id:381, len: 150\n",
      "i :4, id:527, len: 339\n",
      "i :5, id:799, len: 195\n",
      "i :6, id:314, len: 295\n",
      "i :7, id:124, len: 127\n",
      "i :8, id:938, len: 173\n",
      "i :9, id:106, len: 2027\n",
      "i :10, id:737, len: 110\n",
      "i :11, id:502, len: 261\n",
      "i :12, id:517, len: 232\n",
      "i :13, id:502, len: 261\n",
      "i :14, id:362, len: 100\n",
      "i :15, id:940, len: 141\n",
      "i :16, id:167, len: 218\n",
      "i :17, id:935, len: 349\n",
      "i :18, id:367, len: 1094\n",
      "i :19, id:764, len: 279\n",
      "i :20, id:519, len: 311\n",
      "i :21, id:793, len: 120\n",
      "i :22, id:648, len: 142\n",
      "i :23, id:158, len: 163\n",
      "i :24, id:1003, len: 188\n",
      "i :25, id:460, len: 294\n",
      "i :26, id:495, len: 102\n",
      "i :27, id:290, len: 240\n",
      "i :28, id:751, len: 185\n",
      "i :29, id:408, len: 399\n",
      "i :30, id:794, len: 169\n",
      "i :31, id:231, len: 559\n",
      "i :32, id:393, len: 279\n",
      "i :33, id:368, len: 759\n",
      "i :34, id:31, len: 848\n",
      "i :35, id:437, len: 215\n",
      "i :36, id:94, len: 175\n",
      "i :37, id:88, len: 125\n",
      "i :38, id:233, len: 128\n",
      "i :39, id:502, len: 261\n",
      "i :40, id:483, len: 1176\n",
      "i :41, id:108, len: 156\n",
      "i :42, id:779, len: 250\n",
      "i :43, id:517, len: 232\n",
      "i :44, id:681, len: 131\n",
      "i :45, id:208, len: 231\n",
      "i :46, id:661, len: 116\n",
      "i :47, id:642, len: 295\n",
      "i :48, id:913, len: 170\n",
      "i :49, id:401, len: 136\n",
      "i :50, id:648, len: 142\n",
      "i :51, id:16, len: 181\n",
      "i :52, id:973, len: 182\n",
      "i :53, id:111, len: 128\n",
      "i :54, id:1040, len: 196\n",
      "i :55, id:306, len: 198\n",
      "i :56, id:130, len: 135\n",
      "i :57, id:331, len: 196\n",
      "i :58, id:437, len: 215\n",
      "i :59, id:349, len: 184\n",
      "i :60, id:198, len: 118\n",
      "i :61, id:198, len: 118\n",
      "i :62, id:218, len: 114\n",
      "i :63, id:883, len: 426\n",
      "i :64, id:167, len: 218\n",
      "i :65, id:439, len: 333\n",
      "i :66, id:435, len: 200\n",
      "i :67, id:482, len: 166\n",
      "i :68, id:288, len: 834\n",
      "i :69, id:792, len: 109\n",
      "i :70, id:443, len: 171\n",
      "i :71, id:938, len: 173\n",
      "i :72, id:198, len: 118\n",
      "i :73, id:231, len: 559\n",
      "i :74, id:342, len: 101\n",
      "i :75, id:108, len: 156\n",
      "i :76, id:20, len: 133\n",
      "i :77, id:817, len: 373\n",
      "i :78, id:468, len: 1151\n",
      "i :79, id:81, len: 1588\n",
      "i :80, id:381, len: 150\n",
      "i :81, id:160, len: 209\n",
      "i :82, id:562, len: 142\n",
      "i :83, id:886, len: 104\n",
      "i :84, id:138, len: 132\n",
      "i :85, id:306, len: 198\n",
      "i :86, id:116, len: 263\n",
      "i :87, id:38, len: 1403\n",
      "i :88, id:78, len: 531\n",
      "i :89, id:141, len: 115\n",
      "i :90, id:1028, len: 526\n",
      "i :91, id:342, len: 101\n",
      "i :92, id:373, len: 113\n",
      "i :93, id:1049, len: 128\n",
      "i :94, id:549, len: 925\n",
      "i :95, id:779, len: 250\n",
      "i :96, id:88, len: 125\n",
      "i :97, id:1075, len: 159\n",
      "i :98, id:393, len: 279\n",
      "i :99, id:883, len: 426\n"
     ]
    }
   ],
   "source": [
    "sum_dcg = 0\n",
    "sum_ndcg = 0\n",
    "sum_pre = 0\n",
    "sum_preK = 0\n",
    "sum_avgpre = 0\n",
    "sum_rankdcg = 0\n",
    "sum_predict = 0\n",
    "i = 0\n",
    "loop_boolean = True\n",
    "for i in range(0, 100):\n",
    "    \n",
    "    TEST_USER = random.randrange(1, i+1000)\n",
    "    user_ratings = ratings[ratings['userid'] == TEST_USER][['userid', 'recipeid', 'rating']]\n",
    "    \n",
    "\n",
    "    while len(user_ratings) < 100:\n",
    "        TEST_USER = random.randrange(1, i+1000)\n",
    "        user_ratings = ratings[ratings['userid'] == TEST_USER][['userid', 'recipeid', 'rating']]\n",
    "     \n",
    "    user_ratings['prediction'] = user_ratings.apply(lambda x: predict_rating(TEST_USER, x['recipeid']), axis=1)\n",
    "    test_rating = user_ratings.sort_values(by='rating', \n",
    "                             ascending=False).merge(recipes, \n",
    "                                                    on='recipeid', \n",
    "                                                    how='inner', \n",
    "                                                    suffixes=['_u', '_m'])\n",
    "    print(\"i :\" + str(i) + \", id:\" + str(TEST_USER) + \", len: \" + str(len(test_rating)))\n",
    "    tprediction = list(test_rating['prediction'])\n",
    "    tprediction = map(round, tprediction)\n",
    "    tprediction = map(int, tprediction)     \n",
    "    trating = list(test_rating['rating'])\n",
    "\n",
    "    tprediction_k = tprediction[:10]\n",
    "    trating_k = trating[:10]\n",
    "    sum_dcg = measures.find_dcg(tprediction_k)\n",
    "    sum_ndcg += measures.find_ndcg(trating_k, tprediction_k)\n",
    "    sum_pre += measures.find_precision(trating_k, tprediction_k)\n",
    "    sum_preK += measures.find_precision_k(trating_k, tprediction_k, len(tprediction_k))\n",
    "    sum_avgpre += measures.find_average_precision(trating_k, tprediction_k)\n",
    "    sum_rankdcg += measures.find_rankdcg(trating, tprediction)\n",
    "\n",
    "    \n",
    "    for predict in trating[:10]:\n",
    "        sum_predict += predict\n",
    "       "
   ]
  },
  {
   "cell_type": "code",
   "execution_count": 47,
   "metadata": {},
   "outputs": [
    {
     "name": "stdout",
     "output_type": "stream",
     "text": [
      "\t DCG:\t\t\t0.311611125822\n",
      "\t NDCG:\t\t\t0.880091010115\n",
      "\t Precision:\t\t0.419\n",
      "\t Precision_at_K:\t0.419\n",
      "\t Avrage_precision:\t0.422478571429\n",
      "\t RankDCG:\t\t0.192134287606\n",
      "\t avg_predict:\t\t5.0\n"
     ]
    }
   ],
   "source": [
    "avg_dcg = sum_dcg / 100\n",
    "avg_ndcg = sum_ndcg / (100)\n",
    "avg_pre = sum_pre / 100\n",
    "avg_preK = sum_preK / 100\n",
    "avg_avgpre = sum_avgpre / 100\n",
    "avg_rankdcg = sum_rankdcg / (100)\n",
    "avg_predict = sum_predict / 1000.0\n",
    "\n",
    "print(\"\\t DCG:\\t\\t\\t{0}\".format(avg_dcg))\n",
    "print(\"\\t NDCG:\\t\\t\\t{0}\".format(avg_ndcg))\n",
    "print(\"\\t Precision:\\t\\t{0}\".format(avg_pre))\n",
    "print(\"\\t Precision_at_K:\\t{0}\".format(avg_preK))\n",
    "print(\"\\t Avrage_precision:\\t{0}\".format(avg_avgpre))\n",
    "print(\"\\t RankDCG:\\t\\t{0}\".format(avg_rankdcg))\n",
    "print(\"\\t avg_predict:\\t\\t{0}\".format(avg_predict))"
   ]
  },
  {
   "cell_type": "code",
   "execution_count": null,
   "metadata": {},
   "outputs": [],
   "source": []
  },
  {
   "cell_type": "code",
   "execution_count": null,
   "metadata": {},
   "outputs": [],
   "source": []
  },
  {
   "cell_type": "code",
   "execution_count": null,
   "metadata": {},
   "outputs": [],
   "source": []
  },
  {
   "cell_type": "code",
   "execution_count": null,
   "metadata": {},
   "outputs": [],
   "source": []
  }
 ],
 "metadata": {
  "kernelspec": {
   "display_name": "Python 2",
   "language": "python",
   "name": "python2"
  },
  "language_info": {
   "codemirror_mode": {
    "name": "ipython",
    "version": 2
   },
   "file_extension": ".py",
   "mimetype": "text/x-python",
   "name": "python",
   "nbconvert_exporter": "python",
   "pygments_lexer": "ipython2",
   "version": "2.7.10"
  }
 },
 "nbformat": 4,
 "nbformat_minor": 1
}
